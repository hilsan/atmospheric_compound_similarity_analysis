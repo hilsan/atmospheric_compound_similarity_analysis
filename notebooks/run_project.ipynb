{
 "cells": [
  {
   "cell_type": "markdown",
   "metadata": {},
   "source": [
    "# Read molecular datasets and remove entries which give errors when translated to mol objects or fingerprints. "
   ]
  },
  {
   "cell_type": "code",
   "execution_count": null,
   "metadata": {},
   "outputs": [],
   "source": [
    "%run ../src/data/make_dataset.py ../data/raw/ ../data/processed/"
   ]
  },
  {
   "cell_type": "markdown",
   "metadata": {},
   "source": [
    "# Compute molecular properties and fingerprints for datasets. "
   ]
  },
  {
   "cell_type": "code",
   "execution_count": null,
   "metadata": {},
   "outputs": [],
   "source": [
    "%run ../src/features/build_features.py ../data/processed/ ../data/output/ ../reports/tables/"
   ]
  },
  {
   "cell_type": "markdown",
   "metadata": {},
   "source": [
    "# Example command for running t-SNE analysis"
   ]
  },
  {
   "cell_type": "markdown",
   "metadata": {},
   "source": [
    "export OUTPUT= insert path to data/output\n",
    "export SCRIPT= insert parth to src/fingerprint_compariso\n",
    "python $SCRIPT/calc_tsne.py -o all-maccs_120124  -p 100 -t 'QM9' 'nablaDFT' 'MassBank, NA' 'MassBank, Europe' 'Gecko' 'Quinones' 'Wang' -n 12 -fp MACCS -i random -l $OUTPUT/QM9 $OUTPUT/nablaDFT $OUTPUT/ExpMoNA $OUTPUT/mb_eu $OUTPUT/Gecko $OUTPUT/Quinones $OUTPUT/Wang  "
   ]
  },
  {
   "cell_type": "markdown",
   "metadata": {},
   "source": [
    "# Example command for running Tanimoto analysis with one core"
   ]
  },
  {
   "cell_type": "markdown",
   "metadata": {},
   "source": [
    "python  ../src/fingerprint_comparison/compare_fps.py  -n 1  -k1 'Gecko' -k2 'Wang' -fp MACCS"
   ]
  }
 ],
 "metadata": {
  "kernelspec": {
   "display_name": "conda5",
   "language": "python",
   "name": "conda-gecko5"
  },
  "language_info": {
   "codemirror_mode": {
    "name": "ipython",
    "version": 3
   },
   "file_extension": ".py",
   "mimetype": "text/x-python",
   "name": "python",
   "nbconvert_exporter": "python",
   "pygments_lexer": "ipython3",
   "version": "3.10.8"
  }
 },
 "nbformat": 4,
 "nbformat_minor": 4
}
