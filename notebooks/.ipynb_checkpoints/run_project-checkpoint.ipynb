{
 "cells": [
  {
   "cell_type": "code",
   "execution_count": null,
   "metadata": {},
   "outputs": [],
   "source": [
    "%run make_dataset.py ../../data/raw/ ../../data/processed/"
   ]
  },
  {
   "cell_type": "code",
   "execution_count": null,
   "metadata": {},
   "outputs": [
    {
     "name": "stderr",
     "output_type": "stream",
     "text": [
      "2023-02-17 11:00:22,097 - __main__ - INFO - Starting analysis on ExpMoNA\n",
      "2023-02-17 11:00:22,465 - __main__ - INFO - Compute MACCS fingerprint for dataset\n",
      "[11:17:52] WARNING: not removing hydrogen atom without neighbors\n",
      "2023-02-17 11:40:20,766 - __main__ - INFO - Compute topological fingerprint for dataset\n",
      "[11:58:53] WARNING: not removing hydrogen atom without neighbors\n",
      "2023-02-17 11:59:00,617 - __main__ - INFO - Splitting dataset in prep. of fingerprint comparison\n",
      "2023-02-17 11:59:06,251 - __main__ - INFO - Building functional groups...\n",
      "==============================\n",
      "*** Open Babel Warning  in ParseSmiles\n",
      "  Ignoring stereochemistry. Not enough connections to this atom. \n",
      "==============================\n",
      "*** Open Babel Warning  in ParseSmiles\n",
      "  Ignoring stereochemistry. Not enough connections to this atom. \n",
      "==============================\n",
      "*** Open Babel Warning  in ParseSmiles\n",
      "  Ignoring stereochemistry. Not enough connections to this atom. \n",
      "==============================\n",
      "*** Open Babel Warning  in ParseSmiles\n",
      "  Ignoring stereochemistry. Not enough connections to this atom. \n",
      "==============================\n",
      "*** Open Babel Warning  in CreateCisTrans\n",
      "  Error in cis/trans stereochemistry specified for the double bond\n",
      "\n",
      "==============================\n",
      "*** Open Babel Warning  in CreateCisTrans\n",
      "  Error in cis/trans stereochemistry specified for the double bond\n",
      "\n"
     ]
    }
   ],
   "source": [
    "%run ../features/build_features.py ../../data/processed/ ../../data/output/ ../../reports/tables/"
   ]
  },
  {
   "cell_type": "code",
   "execution_count": 14,
   "metadata": {},
   "outputs": [],
   "source": [
    "import pandas as pd\n",
    "import numpy as np\n",
    "import joblib as jl\n",
    "import subprocess"
   ]
  },
  {
   "cell_type": "code",
   "execution_count": 15,
   "metadata": {},
   "outputs": [],
   "source": [
    "nd = jl.load('../../data/processed/nablaDFT.dump')"
   ]
  },
  {
   "cell_type": "code",
   "execution_count": 45,
   "metadata": {},
   "outputs": [],
   "source": [
    "def process_nabladft(input_filepath, output_filepath):\n",
    "    \"\"\"Reads presorted and unique nablaDFT data\"\"\"\n",
    "    infile=input_filepath+'raw-nablaDFT/summary.csv'\n",
    "    result_smiles = subprocess.run(['/scratch/work/sandsth2/Projects/atm_datasets_in_chem_space.git/src/data/getNablaDFT_Smiles.sh', infile], stdout=subprocess.PIPE, text=True)\n",
    "    return result_smiles \n",
    "   # pd.DataFrame(list(result_smiles.stdout)).to_csv(input_filepath+'raw-nablaDFT/SMILES-sorted_unique.csv',header=None)\n",
    "   # nablaDFT = pd.read_csv(input_filepath+'raw-nablaDFT/SMILES-sorted_unique.csv', header=None)\n",
    "   # nablaDFT.rename({0:'SMILES'},axis=1, inplace=True)\n",
    "   # jl.dump(nablaDFT, output_filepath+'nablaDFT.dump')"
   ]
  },
  {
   "cell_type": "code",
   "execution_count": 46,
   "metadata": {},
   "outputs": [],
   "source": [
    "input_filepath='../../data/raw/'\n",
    "output_filepath='../../data/processed/'"
   ]
  },
  {
   "cell_type": "code",
   "execution_count": 47,
   "metadata": {},
   "outputs": [
    {
     "ename": "ValueError",
     "evalue": "DataFrame constructor not properly called!",
     "output_type": "error",
     "traceback": [
      "\u001b[0;31m---------------------------------------------------------------------------\u001b[0m",
      "\u001b[0;31mValueError\u001b[0m                                Traceback (most recent call last)",
      "Cell \u001b[0;32mIn[47], line 1\u001b[0m\n\u001b[0;32m----> 1\u001b[0m \u001b[43mprocess_nabladft\u001b[49m\u001b[43m(\u001b[49m\u001b[43minput_filepath\u001b[49m\u001b[43m,\u001b[49m\u001b[43m \u001b[49m\u001b[43moutput_filepath\u001b[49m\u001b[43m)\u001b[49m\n",
      "Cell \u001b[0;32mIn[45], line 5\u001b[0m, in \u001b[0;36mprocess_nabladft\u001b[0;34m(input_filepath, output_filepath)\u001b[0m\n\u001b[1;32m      3\u001b[0m infile\u001b[38;5;241m=\u001b[39minput_filepath\u001b[38;5;241m+\u001b[39m\u001b[38;5;124m'\u001b[39m\u001b[38;5;124mraw-nablaDFT/summary.csv\u001b[39m\u001b[38;5;124m'\u001b[39m\n\u001b[1;32m      4\u001b[0m result_smiles \u001b[38;5;241m=\u001b[39m subprocess\u001b[38;5;241m.\u001b[39mrun([\u001b[38;5;124m'\u001b[39m\u001b[38;5;124m/scratch/work/sandsth2/Projects/atm_datasets_in_chem_space.git/src/data/getNablaDFT_Smiles.sh\u001b[39m\u001b[38;5;124m'\u001b[39m, infile], stdout\u001b[38;5;241m=\u001b[39msubprocess\u001b[38;5;241m.\u001b[39mPIPE, text\u001b[38;5;241m=\u001b[39m\u001b[38;5;28;01mTrue\u001b[39;00m)\n\u001b[0;32m----> 5\u001b[0m \u001b[38;5;28mprint\u001b[39m(\u001b[43mpd\u001b[49m\u001b[38;5;241;43m.\u001b[39;49m\u001b[43mDataFrame\u001b[49m\u001b[43m(\u001b[49m\u001b[43mresult_smiles\u001b[49m\u001b[43m)\u001b[49m\u001b[38;5;241m.\u001b[39mhead())\n",
      "File \u001b[0;32m/scratch/work/sandsth2/.conda_envs/conda-gecko5/lib/python3.10/site-packages/pandas/core/frame.py:780\u001b[0m, in \u001b[0;36mDataFrame.__init__\u001b[0;34m(self, data, index, columns, dtype, copy)\u001b[0m\n\u001b[1;32m    777\u001b[0m \u001b[38;5;66;03m# For data is scalar\u001b[39;00m\n\u001b[1;32m    778\u001b[0m \u001b[38;5;28;01melse\u001b[39;00m:\n\u001b[1;32m    779\u001b[0m     \u001b[38;5;28;01mif\u001b[39;00m index \u001b[38;5;129;01mis\u001b[39;00m \u001b[38;5;28;01mNone\u001b[39;00m \u001b[38;5;129;01mor\u001b[39;00m columns \u001b[38;5;129;01mis\u001b[39;00m \u001b[38;5;28;01mNone\u001b[39;00m:\n\u001b[0;32m--> 780\u001b[0m         \u001b[38;5;28;01mraise\u001b[39;00m \u001b[38;5;167;01mValueError\u001b[39;00m(\u001b[38;5;124m\"\u001b[39m\u001b[38;5;124mDataFrame constructor not properly called!\u001b[39m\u001b[38;5;124m\"\u001b[39m)\n\u001b[1;32m    782\u001b[0m     index \u001b[38;5;241m=\u001b[39m ensure_index(index)\n\u001b[1;32m    783\u001b[0m     columns \u001b[38;5;241m=\u001b[39m ensure_index(columns)\n",
      "\u001b[0;31mValueError\u001b[0m: DataFrame constructor not properly called!"
     ]
    }
   ],
   "source": [
    "process_nabladft(input_filepath, output_filepath)"
   ]
  },
  {
   "cell_type": "code",
   "execution_count": null,
   "metadata": {},
   "outputs": [],
   "source": []
  }
 ],
 "metadata": {
  "kernelspec": {
   "display_name": "conda-gecko5",
   "language": "python",
   "name": "conda-gecko5"
  },
  "language_info": {
   "codemirror_mode": {
    "name": "ipython",
    "version": 3
   },
   "file_extension": ".py",
   "mimetype": "text/x-python",
   "name": "python",
   "nbconvert_exporter": "python",
   "pygments_lexer": "ipython3",
   "version": "3.10.8"
  }
 },
 "nbformat": 4,
 "nbformat_minor": 4
}
