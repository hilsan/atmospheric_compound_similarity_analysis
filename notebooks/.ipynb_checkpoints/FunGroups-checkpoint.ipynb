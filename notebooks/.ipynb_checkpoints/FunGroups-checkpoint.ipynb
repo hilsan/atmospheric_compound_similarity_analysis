{
 "cells": [
  {
   "cell_type": "code",
   "execution_count": 2,
   "metadata": {},
   "outputs": [
    {
     "data": {
      "text/plain": [
       "<Figure size 2100x2850 with 0 Axes>"
      ]
     },
     "metadata": {},
     "output_type": "display_data"
    }
   ],
   "source": [
    "#README: workflow\n",
    "#<<Do simpol analysis>> --write as bash script? \n",
    "#%run scripts/format_dataframe_for_simpol.py\n",
    "#%run scripts/\n",
    "\n",
    "import joblib as jl \n",
    "import seaborn as sns\n",
    "import pandas as pd\n",
    "import sys, os\n",
    "sys.path.append('/scratch/work/sandsth2/Projects/atm_datasets_in_chem_space.git/') \n",
    "import numpy as np\n",
    "import matplotlib\n",
    "import matplotlib.pyplot as plt\n",
    "from src.visualization import plot_fun_groups as pfg\n",
    "import sys        \n",
    "\n",
    "fg_datasets={'Gecko':'datasets_set_compound/Gecko_SIMPOLgroups_no-ring_nitrophenol.csv',\n",
    "             'Wang':'datasets_set_compound/Wang_SIMPOLgroups_no-ring_nitrophenol.csv',\n",
    "         'QM9':\"datasets_set_compound/QM9_SIMPOLgroups_no-ring_nitrophenol.csv\",\n",
    "         'Quinones':\"datasets_set_compound/Quinones_SIMPOLgroups_no-ring_nitrophenol.csv\",\n",
    "         'ExpMoNA':\"datasets_set_compound/Exp_MoNA_SIMPOLgroups_no-ring_nitrophenol.csv\",\n",
    "         'IS':\"datasets_set_compound/IS_SIMPOLgroups_no-ring_nitrophenol.csv\",\n",
    "         'RS':\"datasets_set_compound/RS_SIMPOLgroups_no-ring_nitrophenol.csv\",\n",
    "            'nablaDFT':'datasets_set_compound/nablaDFT_SIMPOLgroups_no-ring_nitrophenol.csv',\n",
    "            'Massbank, EU':'/atm_datasets_in_chem_space.git/data/output'}\n",
    "\n",
    "fg_datasets={'Massbank, EU':'../data/output/Massbank, EU_SIMPOLgroups.csv'}\n",
    "sns.set_palette(sns.color_palette(\"colorblind\"))\n",
    "threshold=0.01\n",
    "report_path = '../reports/figures/'\n",
    "for key in fg_datasets:\n",
    "\tdf = pd.read_csv(fg_datasets[key])\n",
    "\tdf = pfg.process_data(df)\n",
    "\tdf_c = pfg.count_values(df,threshold)\n",
    "\tpfg.plot_fun_group_hist(df, report_path, key)\n",
    "\tpfg.plot_fun_group_count_bar(df_c, threshold, report_path, key)  "
   ]
  }
 ],
 "metadata": {
  "kernelspec": {
   "display_name": "conda-gecko5",
   "language": "python",
   "name": "conda-gecko5"
  },
  "language_info": {
   "codemirror_mode": {
    "name": "ipython",
    "version": 3
   },
   "file_extension": ".py",
   "mimetype": "text/x-python",
   "name": "python",
   "nbconvert_exporter": "python",
   "pygments_lexer": "ipython3",
   "version": "3.10.8"
  }
 },
 "nbformat": 4,
 "nbformat_minor": 4
}
